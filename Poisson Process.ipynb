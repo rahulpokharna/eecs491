{
 "cells": [
  {
   "cell_type": "markdown",
   "metadata": {},
   "source": [
    "### Problem Description"
   ]
  },
  {
   "cell_type": "markdown",
   "metadata": {},
   "source": [
    "The Poisson process is one of the most widely-used counting processes. It is usually used in scenarios where we are counting the occurrences of certain events that appear to happen at a certain rate, but completely at random (without a certain structure). In mathematics, Poisson process is described by Poisson distribution has the following form\n",
    "\n",
    "$$\n",
    "p(n|\\lambda) = \\frac{1}{n!} \\lambda^n e^{-\\lambda}\n",
    "$$\n",
    "\n",
    "where λ > 0 is the rate of the Poisson process, and n is the number of observations per unit of time, n = {1, 2, . . .}. To derive the posterior distribution, we must deﬁne a prior. A natural choice is the gamma distribution distribution, which is a conjugate prior for the Poisson distribution\n",
    "\n",
    "$$\n",
    "\\dfrac{\\beta^\\alpha}{\\Gamma(\\alpha)} \\lambda^{\\alpha - 1} e^{-\\beta \\lambda}\n",
    "$$\n",
    "\n",
    "where α is the shape parameter and β is the inverse scale parameter. A special case of the gamma is the exponential, Gamma(α = 1, β)\n",
    "\n",
    "$$\n",
    "\\beta e^{-\\beta \\lambda}\n",
    "$$"
   ]
  },
  {
   "cell_type": "markdown",
   "metadata": {},
   "source": [
    "### Belief Network"
   ]
  },
  {
   "cell_type": "markdown",
   "metadata": {},
   "source": [
    "<img src=\"img/poisson.png\" width=\"300\">"
   ]
  },
  {
   "cell_type": "markdown",
   "metadata": {},
   "source": [
    "### Create Model in PyMC3"
   ]
  },
  {
   "cell_type": "markdown",
   "metadata": {},
   "source": [
    "As what we did in wet grass example, model definition is a process of claiming variables with proper distributions. Here, we'll use *HalfNormal*, which is a normal distribution for positive numbers; *Gamma*, corresponds to Gamma function; and *Poisson* distribution.\n",
    "\n",
    "There are two things you should notice here:\n",
    "\n",
    "First, we use observed random variable here (N, corresponds to data). Normally, you can pass a concrete array to keyword *observed*. However, if you want to apply another data to the model, this method won't work. Instead, you can create a dynamic space to contain your data wich function *theano.shared* and modify the value of it later.\n",
    "\n",
    "Second, if you noticed, we add a small number in definition of variable $r$. This is because *Gamma* distribution require $\\alpha$ and $\\beta$ both be positive."
   ]
  },
  {
   "cell_type": "code",
   "execution_count": 4,
   "metadata": {},
   "outputs": [],
   "source": [
    "import numpy, pymc3, theano\n",
    "\n",
    "nobserve = 1000\n",
    "# standard variance for priors\n",
    "alphasd = 2\n",
    "betasd  = 2\n",
    "# create shared memory for changing observations\n",
    "obsdata = theano.shared(numpy.zeros(nobserve))\n",
    "# get a tiny number to avoid 0, even it is highly unlikely\n",
    "eps = numpy.finfo(numpy.double).tiny\n",
    "\n",
    "with pymc3.Model() as model:\n",
    "    alpha = pymc3.HalfNormal('alpha', sd=alphasd)\n",
    "    beta  = pymc3.HalfNormal('beta', sd=betasd)\n",
    "    # varibles depends on other variables\n",
    "    r = pymc3.Gamma('r', alpha=alpha+eps, beta=beta+eps)\n",
    "    n = pymc3.Poisson('n', mu=r, observed=obsdata)"
   ]
  },
  {
   "cell_type": "markdown",
   "metadata": {},
   "source": [
    "### Generate Data"
   ]
  },
  {
   "cell_type": "markdown",
   "metadata": {},
   "source": [
    "For a meaningful experiment, we need to generate data following our assumption. Here, we create random parameters and then use it to sample data from *Poisson* distribution. Idealy, maximum posterior estimation should recover our random parameters here."
   ]
  },
  {
   "cell_type": "code",
   "execution_count": 5,
   "metadata": {
    "scrolled": true
   },
   "outputs": [
    {
     "name": "stdout",
     "output_type": "stream",
     "text": [
      "Ground Truth of Alpha :  0.06764147509732721\n",
      "Ground Truth of Beta  :  0.8897082218829041\n",
      "Ground Truth of Rate  :  1.89432366597772e-05\n"
     ]
    },
    {
     "name": "stderr",
     "output_type": "stream",
     "text": [
      "Sequential sampling (1 chains in 1 job)\n",
      "Metropolis: [d]\n",
      "100%|████████████████████████████████████████████████████████████████████████████| 1500/1500 [00:00<00:00, 1576.29it/s]\n",
      "Only one chain was sampled, this makes it impossible to run some convergence checks\n"
     ]
    }
   ],
   "source": [
    "# initialize ground truth with random values\n",
    "gtruthA = numpy.absolute(numpy.random.normal(scale=alphasd)) + eps\n",
    "gtruthB = numpy.absolute(numpy.random.normal(scale=betasd)) + eps\n",
    "gtruthR = numpy.random.gamma(gtruthA, 1 / gtruthB)\n",
    "# print ground truth in output\n",
    "print('Ground Truth of Alpha : ', gtruthA)\n",
    "print('Ground Truth of Beta  : ', gtruthB)\n",
    "print('Ground Truth of Rate  : ', gtruthR)\n",
    "# generate data sample with generated parameters\n",
    "with pymc3.Model() as dataModel:\n",
    "    d = pymc3.Poisson('d', mu=gtruthR)\n",
    "    # get data by sampling\n",
    "    trace = pymc3.sample(nobserve, chains=1)\n",
    "    # set observation data\n",
    "    obsdata.set_value(trace[d])"
   ]
  },
  {
   "cell_type": "markdown",
   "metadata": {},
   "source": [
    "### Posterior Estimation through Sampling"
   ]
  },
  {
   "cell_type": "markdown",
   "metadata": {},
   "source": [
    "Here, we utilize sampling process to generate samples following defined model with given data. And then use plot to illustrate posterior of each variable."
   ]
  },
  {
   "cell_type": "code",
   "execution_count": null,
   "metadata": {},
   "outputs": [
    {
     "name": "stderr",
     "output_type": "stream",
     "text": [
      "Auto-assigning NUTS sampler...\n",
      "Initializing NUTS using jitter+adapt_diag...\n",
      "c:\\users\\rahul\\appdata\\local\\programs\\python\\python35\\lib\\site-packages\\pymc3\\model.py:384: FutureWarning: Conversion of the second argument of issubdtype from `float` to `np.floating` is deprecated. In future, it will be treated as `np.float64 == np.dtype(float).type`.\n",
      "  if not np.issubdtype(var.dtype, float):\n",
      "Multiprocess sampling (4 chains in 4 jobs)\n",
      "NUTS: [r_log__, beta_log__, alpha_log__]\n"
     ]
    }
   ],
   "source": [
    "%matplotlib inline\n",
    "\n",
    "nsamples = 200\n",
    "# sampling the model with given data\n",
    "with model:\n",
    "    # get sample from model with given observed data\n",
    "    trace = pymc3.sample(nsamples)\n",
    "    # illustrate samples\n",
    "    pymc3.traceplot(trace)"
   ]
  },
  {
   "cell_type": "markdown",
   "metadata": {},
   "source": [
    "If your run this process multiple times, you'll find estimation of $r$ is significantly bettern than $\\alpha$ and $\\beta$, why?"
   ]
  }
 ],
 "metadata": {
  "kernelspec": {
   "display_name": "Python 3",
   "language": "python",
   "name": "python3"
  },
  "language_info": {
   "codemirror_mode": {
    "name": "ipython",
    "version": 3
   },
   "file_extension": ".py",
   "mimetype": "text/x-python",
   "name": "python",
   "nbconvert_exporter": "python",
   "pygments_lexer": "ipython3",
   "version": "3.5.2"
  }
 },
 "nbformat": 4,
 "nbformat_minor": 2
}
