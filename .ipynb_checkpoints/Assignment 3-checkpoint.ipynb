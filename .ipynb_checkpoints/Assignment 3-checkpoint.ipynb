{
 "cells": [
  {
   "cell_type": "markdown",
   "metadata": {},
   "source": [
    "# Determining the cause of Hemiplegia "
   ]
  },
  {
   "cell_type": "markdown",
   "metadata": {},
   "source": [
    "A patient is brought to the hospital with hemiplegia (paralysis of one half of the body), and the doctor is given a brief family history and medical information by the patient's spouse, telling the doctor the patient was in a mild accident, and their father had brain cancer. The rest is unknown at the time, and the MRI, CT, and Brain Autopsy have yet to be completed. The doctor wants to know the probabilities of the patient having stroke, brain cancer, and brain trauma. What if the MRI and CT are completed?\n",
    "\n",
    "There are many causes for hemiplegia, and the most common 3 causes for this are stroke, head trauma, and brain cancer. Hemiplegia can be caused by any one, multiple, or even none of these. \n",
    "\n",
    "(NOTICE: Most of these numbers are baseless/fabricated, and the model is modified from real diagnosis and medicine, sources at bottom)\n",
    "\n",
    "- $HT$: Head Trauma\n",
    "- $FH_S$: Family History of Stroke\n",
    "- $FH_{BC}$: Family History of Brain Cancer\n",
    "- $RA$: Patient involved in an accident recently\n",
    "- $S$: Stroke\n",
    "- $BC$: Brain Cancer\n",
    "- $BT$:Brain/Head Trauma\n",
    "- $MRI$: Positive MRI\n",
    "- $BA$: Positive Brain Autopsy\n",
    "- $CT$: Positive CT Scan\n",
    "- $HP$: Hemiplegia "
   ]
  },
  {
   "cell_type": "markdown",
   "metadata": {},
   "source": [
    "<img src=\"img/hemiplegia.png\" width=\"800\">"
   ]
  },
  {
   "cell_type": "markdown",
   "metadata": {},
   "source": [
    "| Variable | Conditional Probability (or Prior) | Variable | Conditional Probability (or Prior) |\n",
    "|--------:|-------:|--------:|-------:|\n",
    "| $HT$ | $$P(HT) = 0.33 $$ | $RA$ | $$P(RA) = 0.02$$ |\n",
    "| $FH_S$ | $$P(FH_S) = 0.0025$$ | $BT$ | $$P(BT|RA) = .272$$ |\n",
    "| $S$ | $$P(S|HT, FH_S) = 0.15$$ | | $$P(BT|\\overline{RA}) = .01$$ |\n",
    "| | $$P(S|HT, \\overline{FH_S}) = 0.07$$ | $CT$ | $$P(CT|BT) = .1$$ |\n",
    "| | $$P(S|\\overline{HT}, FH_S) = 0.1$$ | | $$P(CT|\\overline{BT}) = .95$$ |\n",
    "| | $$P(S|\\overline{HT}, \\overline{FH_S}) = 0.0025$$ | $HP$ | $$P(HP|S, BC, BT) = 0.95$$ |\n",
    "| $MRI$ | $$P(MRI | S) = 0.95$$ | | $$P(HP|\\overline{S}, BC, BT) = 0.60$$ |\n",
    "| | $$P(MRI | \\overline{S}) = 0.01$$ | | $$P(HP|S, \\overline{BC}, BT) = 0.80$$ |\n",
    "| $FH_{BC}$| $$P(FH_{BC}) = 0.00043$$ | | $$P(HP|S, BC, \\overline{BT}) = 0.75$$ |\n",
    "| $BC$ | $$P(BC | FH_{BC}) = 0.05$$ | | $$P(HP|\\overline{S}, \\overline{BC}, BT) = 0.50$$ |\n",
    "| | $$P(BC  |  \\overline{FH_{BC}}) = 0.00043$$ | | $$P(HP|\\overline{S}, BC, \\overline{BT}) = 0.30$$ |\n",
    "| $BA$ | $$P(BA|BC) = 0.999$$ | | $$P(HP|S, \\overline{BC}, \\overline{BT}) = 0.70$$ |\n",
    "| | $$P(BA|\\overline{BC}) = 0.001$$ | | $$P(HP|\\overline{S}, \\overline{BC}, \\overline{BT}) = 0.0001$$ |\n",
    "\n",
    "## Numbers not representative of real numbers"
   ]
  },
  {
   "cell_type": "markdown",
   "metadata": {},
   "source": [
    "# Define the model in pgmpy"
   ]
  },
  {
   "cell_type": "code",
   "execution_count": 1,
   "metadata": {},
   "outputs": [],
   "source": [
    "from pgmpy.models import BayesianModel as bysmodel\n",
    "from pgmpy.factors.discrete import TabularCPD as tcpd"
   ]
  },
  {
   "cell_type": "markdown",
   "metadata": {},
   "source": [
    "### Initialize the model with connections"
   ]
  },
  {
   "cell_type": "code",
   "execution_count": 2,
   "metadata": {},
   "outputs": [],
   "source": [
    "# define the model with connections\n",
    "model = bysmodel([('HT', 'S'), ('FHS', 'S'), ('S', 'MRI'), ('S', 'HP'), ('FHBC', 'BC'), \n",
    "                  ('BC', 'BA'), ('BC', 'HP'), ('RA', 'BT'), ('BT', 'CT'), ('BT', 'HP')])"
   ]
  },
  {
   "cell_type": "markdown",
   "metadata": {},
   "source": [
    "### Add probabilities for each node"
   ]
  },
  {
   "cell_type": "code",
   "execution_count": 3,
   "metadata": {},
   "outputs": [],
   "source": [
    "# Priors of Hypertension, Family history of stroke and brain cancer, and recent accident.\n",
    "priorHT = tcpd(variable='HT', variable_card=2, values=[[.67, .33]])\n",
    "priorFHS = tcpd(variable='FHS', variable_card=2, values=[[.9975, .0025]])\n",
    "priorFHBC = tcpd(variable='FHBC', variable_card=2, values=[[.99957, .00043]])\n",
    "priorRA = tcpd(variable='RA', variable_card=2, values=[[.98, .02]])"
   ]
  },
  {
   "cell_type": "code",
   "execution_count": 4,
   "metadata": {},
   "outputs": [],
   "source": [
    "# Cond probs of rest\n",
    "cpdS = tcpd(variable='S',  variable_card=2,\n",
    "            evidence=['HT', 'FHS'], evidence_card=[2, 2],\n",
    "            values=[[.9975, .9, .93, .85],\n",
    "                    [.0025, .1, .07, .15]])\n",
    "\n",
    "cpdBC = tcpd(variable='BC',  variable_card=2,\n",
    "            evidence=['FHBC'], evidence_card=[2],\n",
    "            values=[[.99957, .95],\n",
    "                    [.00043, .05]])\n",
    "\n",
    "cpdBT = tcpd(variable='BT',  variable_card=2,\n",
    "            evidence=['RA'], evidence_card=[2],\n",
    "            values=[[.99, .728],\n",
    "                    [.01, .272]])\n",
    "\n",
    "cpdMRI = tcpd(variable='MRI',  variable_card=2,\n",
    "            evidence=['S'], evidence_card=[2],\n",
    "            values=[[.99, .05],\n",
    "                    [.01, .95]])\n",
    "\n",
    "cpdBA = tcpd(variable='BA',  variable_card=2,\n",
    "            evidence=['BC'], evidence_card=[2],\n",
    "            values=[[.999, .001],\n",
    "                    [.001, .999]])\n",
    "\n",
    "cpdCT = tcpd(variable='CT',  variable_card=2,\n",
    "            evidence=['BT'], evidence_card=[2],\n",
    "            values=[[.9, .05],\n",
    "                    [.1, .95]])\n",
    "\n",
    "cpdHP = tcpd(variable='HP', variable_card=2,\n",
    "             evidence=['S', 'BC', 'BT'], evidence_card=[2, 2, 2],\n",
    "            values=[[.9999, .5, .7, .4, .3, .2, .25, .05],\n",
    "                    [.0001, .5, .3, .6, .7, .8, .75, .95]])"
   ]
  },
  {
   "cell_type": "markdown",
   "metadata": {},
   "source": [
    "### Add those probabilities to the model"
   ]
  },
  {
   "cell_type": "code",
   "execution_count": 5,
   "metadata": {},
   "outputs": [
    {
     "data": {
      "text/plain": [
       "True"
      ]
     },
     "execution_count": 5,
     "metadata": {},
     "output_type": "execute_result"
    }
   ],
   "source": [
    "# add probabilities to the model\n",
    "model.add_cpds(priorHT, priorFHS, priorFHBC, priorRA, cpdS, cpdBC, cpdBT, cpdMRI, cpdBA, cpdCT, cpdHP)\n",
    "# check consistency\n",
    "model.check_model()"
   ]
  },
  {
   "cell_type": "code",
   "execution_count": 18,
   "metadata": {},
   "outputs": [
    {
     "name": "stdout",
     "output_type": "stream",
     "text": [
      "╒══════╤══════╕\n",
      "│ HT_0 │ 0.67 │\n",
      "├──────┼──────┤\n",
      "│ HT_1 │ 0.33 │\n",
      "╘══════╧══════╛\n",
      "╒═══════╤════════╕\n",
      "│ FHS_0 │ 0.9975 │\n",
      "├───────┼────────┤\n",
      "│ FHS_1 │ 0.0025 │\n",
      "╘═══════╧════════╛\n",
      "╒════════╤═════════╕\n",
      "│ FHBC_0 │ 0.99957 │\n",
      "├────────┼─────────┤\n",
      "│ FHBC_1 │ 0.00043 │\n",
      "╘════════╧═════════╛\n",
      "╒══════╤══════╕\n",
      "│ RA_0 │ 0.98 │\n",
      "├──────┼──────┤\n",
      "│ RA_1 │ 0.02 │\n",
      "╘══════╧══════╛\n",
      "╒═════╤════════╤═══════╤═══════╤═══════╕\n",
      "│ HT  │ HT_0   │ HT_0  │ HT_1  │ HT_1  │\n",
      "├─────┼────────┼───────┼───────┼───────┤\n",
      "│ FHS │ FHS_0  │ FHS_1 │ FHS_0 │ FHS_1 │\n",
      "├─────┼────────┼───────┼───────┼───────┤\n",
      "│ S_0 │ 0.9975 │ 0.9   │ 0.93  │ 0.85  │\n",
      "├─────┼────────┼───────┼───────┼───────┤\n",
      "│ S_1 │ 0.0025 │ 0.1   │ 0.07  │ 0.15  │\n",
      "╘═════╧════════╧═══════╧═══════╧═══════╛\n",
      "╒══════╤═════════╤════════╕\n",
      "│ FHBC │ FHBC_0  │ FHBC_1 │\n",
      "├──────┼─────────┼────────┤\n",
      "│ BC_0 │ 0.99957 │ 0.95   │\n",
      "├──────┼─────────┼────────┤\n",
      "│ BC_1 │ 0.00043 │ 0.05   │\n",
      "╘══════╧═════════╧════════╛\n",
      "╒══════╤══════╤═══════╕\n",
      "│ RA   │ RA_0 │ RA_1  │\n",
      "├──────┼──────┼───────┤\n",
      "│ BT_0 │ 0.99 │ 0.728 │\n",
      "├──────┼──────┼───────┤\n",
      "│ BT_1 │ 0.01 │ 0.272 │\n",
      "╘══════╧══════╧═══════╛\n",
      "╒═══════╤══════╤══════╕\n",
      "│ S     │ S_0  │ S_1  │\n",
      "├───────┼──────┼──────┤\n",
      "│ MRI_0 │ 0.99 │ 0.05 │\n",
      "├───────┼──────┼──────┤\n",
      "│ MRI_1 │ 0.01 │ 0.95 │\n",
      "╘═══════╧══════╧══════╛\n",
      "╒══════╤═══════╤═══════╕\n",
      "│ BC   │ BC_0  │ BC_1  │\n",
      "├──────┼───────┼───────┤\n",
      "│ BA_0 │ 0.999 │ 0.001 │\n",
      "├──────┼───────┼───────┤\n",
      "│ BA_1 │ 0.001 │ 0.999 │\n",
      "╘══════╧═══════╧═══════╛\n",
      "╒══════╤══════╤══════╕\n",
      "│ BT   │ BT_0 │ BT_1 │\n",
      "├──────┼──────┼──────┤\n",
      "│ CT_0 │ 0.9  │ 0.05 │\n",
      "├──────┼──────┼──────┤\n",
      "│ CT_1 │ 0.1  │ 0.95 │\n",
      "╘══════╧══════╧══════╛\n",
      "╒══════╤════════╤══════╤══════╤══════╤══════╤══════╤══════╤══════╕\n",
      "│ S    │ S_0    │ S_0  │ S_0  │ S_0  │ S_1  │ S_1  │ S_1  │ S_1  │\n",
      "├──────┼────────┼──────┼──────┼──────┼──────┼──────┼──────┼──────┤\n",
      "│ BC   │ BC_0   │ BC_0 │ BC_1 │ BC_1 │ BC_0 │ BC_0 │ BC_1 │ BC_1 │\n",
      "├──────┼────────┼──────┼──────┼──────┼──────┼──────┼──────┼──────┤\n",
      "│ BT   │ BT_0   │ BT_1 │ BT_0 │ BT_1 │ BT_0 │ BT_1 │ BT_0 │ BT_1 │\n",
      "├──────┼────────┼──────┼──────┼──────┼──────┼──────┼──────┼──────┤\n",
      "│ HP_0 │ 0.9999 │ 0.5  │ 0.7  │ 0.4  │ 0.3  │ 0.2  │ 0.25 │ 0.05 │\n",
      "├──────┼────────┼──────┼──────┼──────┼──────┼──────┼──────┼──────┤\n",
      "│ HP_1 │ 0.0001 │ 0.5  │ 0.3  │ 0.6  │ 0.7  │ 0.8  │ 0.75 │ 0.95 │\n",
      "╘══════╧════════╧══════╧══════╧══════╧══════╧══════╧══════╧══════╛\n"
     ]
    }
   ],
   "source": [
    "print(model.get_cpds('HT'))\n",
    "print(model.get_cpds('FHS'))\n",
    "print(model.get_cpds('FHBC'))\n",
    "print(model.get_cpds('RA'))\n",
    "print(model.get_cpds('S'))\n",
    "print(model.get_cpds('BC'))\n",
    "print(model.get_cpds('BT'))\n",
    "print(model.get_cpds('MRI'))\n",
    "print(model.get_cpds('BA'))\n",
    "print(model.get_cpds('CT'))\n",
    "print(model.get_cpds('HP'))"
   ]
  },
  {
   "cell_type": "markdown",
   "metadata": {},
   "source": [
    "# With the created model, we use it to reason and infer diagnoses"
   ]
  },
  {
   "cell_type": "markdown",
   "metadata": {},
   "source": [
    "## Using variable elimination"
   ]
  },
  {
   "cell_type": "code",
   "execution_count": 13,
   "metadata": {},
   "outputs": [],
   "source": [
    "from pgmpy.inference import VariableElimination\n",
    "\n",
    "VESolver = VariableElimination(model)"
   ]
  },
  {
   "cell_type": "code",
   "execution_count": 14,
   "metadata": {},
   "outputs": [
    {
     "name": "stdout",
     "output_type": "stream",
     "text": [
      "Stroke: 92.1757%\n",
      "Brain Trauma: 91.4484%\n",
      "Brain Cancer: 39.8694%\n"
     ]
    }
   ],
   "source": [
    "#Chance of Stroke and Brain Trauma\n",
    "print('Stroke: %.4f%%' % (VESolver.query(['S'], evidence={'HP' : 1, 'FHS' : 1})['S'].values[1] * 100))\n",
    "print('Brain Trauma: %.4f%%' % (VESolver.query(['BT'], evidence={'HP' : 1, 'RA' : 1})['BT'].values[1] * 100))\n",
    "print('Brain Cancer: %.4f%%' % (VESolver.query(['BC'], evidence={'HP' : 1, 'FHBC' : 1})['BC'].values[1] * 100))"
   ]
  },
  {
   "cell_type": "code",
   "execution_count": 15,
   "metadata": {},
   "outputs": [
    {
     "name": "stdout",
     "output_type": "stream",
     "text": [
      "Stroke: 99.9107%\n",
      "Brain Trauma: 37.2686%\n",
      "Brain Cancer: 0.0663%\n",
      "Brain Cancer: 85.0355%\n"
     ]
    }
   ],
   "source": [
    "# With different test results\n",
    "print('Stroke: %.4f%%' % (VESolver.query(['S'], evidence={'HP' : 1, 'FHS' : 1, 'MRI': 1})['S'].values[1] * 100))\n",
    "print('Brain Trauma: %.4f%%' % (VESolver.query(['BT'], evidence={'HP' : 1, 'RA' : 1, 'CT': 0})['BT'].values[1] * 100))\n",
    "print('Brain Cancer: %.4f%%' % (VESolver.query(['BC'], evidence={'HP' : 1, 'FHBC' : 1, 'BA': 0})['BC'].values[1] * 100))\n",
    "print('Brain Cancer: %.4f%%' % (VESolver.query(['BC'], evidence={'HP' : 1, 'BA': 1})['BC'].values[1] * 100))"
   ]
  },
  {
   "cell_type": "markdown",
   "metadata": {},
   "source": [
    "## Bayesian Model Sampling"
   ]
  },
  {
   "cell_type": "code",
   "execution_count": 10,
   "metadata": {},
   "outputs": [],
   "source": [
    "from pgmpy.factors.discrete import State\n",
    "from pgmpy.sampling import BayesianModelSampling\n",
    "\n",
    "SMPSolver = BayesianModelSampling(model)\n",
    "\n",
    "nsamples = 1000\n",
    "\n",
    "# case : have a family history of stroke, and hemiplegia\n",
    "evd1  = [State('FHS', 1), State('HP', 1)]\n",
    "smp1  = SMPSolver.rejection_sample(evidence=evd1, size=nsamples)\n",
    "# case : with a recent accident, hemiplegia, and a  positive CT\n",
    "evd2 = [State('RA', 1), State('HP', 1), State('CT', 1)]\n",
    "smp2 = SMPSolver.rejection_sample(evidence=evd2, size=nsamples)"
   ]
  },
  {
   "cell_type": "code",
   "execution_count": 11,
   "metadata": {},
   "outputs": [],
   "source": [
    "# Copied from demo\n",
    "from pandas.core.frame import DataFrame\n",
    "\n",
    "def calcCondProb(trace, event, cond):\n",
    "    if type(trace) is DataFrame:\n",
    "        trace = trace.transpose().to_dict().values()\n",
    "    # find all samples satisfy conditions\n",
    "    for k, v in cond.items():\n",
    "        trace = [smp for smp in trace if smp[k] == v]\n",
    "    # record quantity of all samples fulfill condition\n",
    "    nCondSample = len(trace)\n",
    "    # find all samples satisfy event\n",
    "    for k, v in event.items():\n",
    "        trace = [smp for smp in trace if smp[k] == v]\n",
    "    # calculate conditional probability\n",
    "    return len(trace) / nCondSample"
   ]
  },
  {
   "cell_type": "code",
   "execution_count": 12,
   "metadata": {},
   "outputs": [
    {
     "name": "stdout",
     "output_type": "stream",
     "text": [
      "Stroke : 92.7%\n",
      "Brain Cancer  : 0.2%\n",
      "Brain Trauma   : 98.7%\n"
     ]
    }
   ],
   "source": [
    "print('Stroke : %.1f%%' % (calcCondProb(smp1, {'S' : 1}, {}) * 100))\n",
    "print('Brain Cancer  : %.1f%%' % (calcCondProb(smp1, {'BC' : 1}, {}) * 100))\n",
    "print('Brain Trauma   : %.1f%%' % (calcCondProb(smp2, {'BT' : 1}, {}) * 100))"
   ]
  },
  {
   "cell_type": "markdown",
   "metadata": {},
   "source": [
    "## Using Belief Propogation"
   ]
  },
  {
   "cell_type": "code",
   "execution_count": 7,
   "metadata": {},
   "outputs": [],
   "source": [
    "from pgmpy.inference import BeliefPropagation\n",
    "\n",
    "BPSolver = BeliefPropagation(model)"
   ]
  },
  {
   "cell_type": "code",
   "execution_count": 8,
   "metadata": {},
   "outputs": [
    {
     "name": "stdout",
     "output_type": "stream",
     "text": [
      "Stroke: 92.1757%\n",
      "Brain Trauma: 91.4484%\n",
      "Brain Cancer: 39.8694%\n"
     ]
    }
   ],
   "source": [
    "#Chance of Stroke and Brain Trauma\n",
    "print('Stroke: %.4f%%' % (BPSolver.query(['S'], evidence={'HP' : 1, 'FHS' : 1})['S'].values[1] * 100))\n",
    "print('Brain Trauma: %.4f%%' % (BPSolver.query(['BT'], evidence={'HP' : 1, 'RA' : 1})['BT'].values[1] * 100))\n",
    "print('Brain Cancer: %.4f%%' % (BPSolver.query(['BC'], evidence={'HP' : 1, 'FHBC' : 1})['BC'].values[1] * 100))"
   ]
  },
  {
   "cell_type": "code",
   "execution_count": 9,
   "metadata": {},
   "outputs": [
    {
     "name": "stdout",
     "output_type": "stream",
     "text": [
      "Stroke: 99.9107%\n",
      "Brain Trauma: 37.2686%\n",
      "Brain Cancer: 0.0663%\n",
      "Brain Cancer: 85.0355%\n"
     ]
    }
   ],
   "source": [
    "# With different test results\n",
    "print('Stroke: %.4f%%' % (BPSolver.query(['S'], evidence={'HP' : 1, 'FHS' : 1, 'MRI': 1})['S'].values[1] * 100))\n",
    "print('Brain Trauma: %.4f%%' % (BPSolver.query(['BT'], evidence={'HP' : 1, 'RA' : 1, 'CT': 0})['BT'].values[1] * 100))\n",
    "print('Brain Cancer: %.4f%%' % (BPSolver.query(['BC'], evidence={'HP' : 1, 'FHBC' : 1, 'BA': 0})['BC'].values[1] * 100))\n",
    "print('Brain Cancer: %.4f%%' % (BPSolver.query(['BC'], evidence={'HP' : 1, 'BA': 1})['BC'].values[1] * 100))"
   ]
  },
  {
   "cell_type": "markdown",
   "metadata": {},
   "source": [
    "## Comparison of methods"
   ]
  },
  {
   "cell_type": "markdown",
   "metadata": {},
   "source": [
    "As you can see above, belief propogation and variable elimination return the same results, and at a much faster rate than bayesian sampling. The values for these three methods are very similar, with only the sampling method slightly different, thus showing that they are all valid methods for calculation. If the network is usable and easy to compute, then it is better to use Variable Elimination or Belief propogation, but if the connections and the network are more difficult to compute, or there is a set of data for the samples and the priors are unknown, then it is much better to use the sampling method to deterine what it is that we are trying to find, when computing conditional probabilities. The final choices of what I would prefer to use for this project would be variable elimination or belief propogation, as the sampling took nearly 30 minutes of calcuations, to still not be completely accurate, as inferring with these calculations is indeed faster than generating and then computing ratios after the fact. Overall the model is able to easily reflect and infer probable causes for diseases, based upon the different conditions given. It accurately reflects the fact that some probabilities are much lower when given that one test case is true, and so on. "
   ]
  },
  {
   "cell_type": "markdown",
   "metadata": {},
   "source": [
    "### More test cases to try\n",
    "Something to test and compare for yourself would be to see how given the same conditions, how likely each disease is. Below is a simple example using Believe propogation."
   ]
  },
  {
   "cell_type": "code",
   "execution_count": 20,
   "metadata": {},
   "outputs": [
    {
     "name": "stdout",
     "output_type": "stream",
     "text": [
      "Stroke: 4.3590%\n",
      "Brain Cancer: 72.7026%\n",
      "Brain Trauma: 24.2066%\n"
     ]
    }
   ],
   "source": [
    "print('Stroke: %.4f%%' % (BPSolver.query(['S'], evidence={'HP' : 1, 'FHBC' : 1, 'RA': 0, 'MRI': 0})['S'].values[1] * 100))\n",
    "print('Brain Cancer: %.4f%%' % (BPSolver.query(['BC'], evidence={'HP' : 1, 'FHBC' : 1, 'RA': 0, 'MRI': 0})['BC'].values[1] * 100))\n",
    "print('Brain Trauma: %.4f%%' % (BPSolver.query(['BT'], evidence={'HP' : 1, 'FHBC' : 1, 'RA': 0, 'MRI': 0})['BT'].values[1] * 100))"
   ]
  },
  {
   "cell_type": "markdown",
   "metadata": {},
   "source": [
    "### Sources\n",
    "- https://www.heart.org/idc/groups/heart-public/@wcm/@sop/@smd/documents/downloadable/ucm_319587.pdf\n",
    "- https://www.cdc.gov/stroke/facts.htm\n",
    "- https://crashstats.nhtsa.dot.gov/Api/Public/ViewPublication/812318\n",
    "- http://events.braintumor.org/wp-content/uploads/2016/03/BrainTumorsBytheNumbers_12.04.15.pdf"
   ]
  }
 ],
 "metadata": {
  "kernelspec": {
   "display_name": "Python 3",
   "language": "python",
   "name": "python3"
  },
  "language_info": {
   "codemirror_mode": {
    "name": "ipython",
    "version": 3
   },
   "file_extension": ".py",
   "mimetype": "text/x-python",
   "name": "python",
   "nbconvert_exporter": "python",
   "pygments_lexer": "ipython3",
   "version": "3.5.2"
  }
 },
 "nbformat": 4,
 "nbformat_minor": 2
}
