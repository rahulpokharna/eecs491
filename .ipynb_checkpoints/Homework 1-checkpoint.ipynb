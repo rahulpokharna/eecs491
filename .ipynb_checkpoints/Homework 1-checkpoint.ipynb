{
 "cells": [
  {
   "cell_type": "markdown",
   "metadata": {},
   "source": [
    "# Assignment 1"
   ]
  },
  {
   "cell_type": "markdown",
   "metadata": {},
   "source": [
    "1. You have a bag, and there are two colors of balls, red and green. There are three types of bags, one with all red, one with all green, and one with an even split of green and red. The hidden variable is what kind of bag you get, and the data you get is the balls that you draw. \n",
    "2. To generate data, if it is the first or the second bag, it is entirely one color, whereas if you have the third bag you will have an even split of red or green. \n",
    "3. The prior is $equation$ and the likelihood of bag 1 or 2 are both VALUE, and bag 3 is Larger VALUE.\n"
   ]
  },
  {
   "cell_type": "code",
   "execution_count": null,
   "metadata": {},
   "outputs": [],
   "source": []
  }
 ],
 "metadata": {
  "kernelspec": {
   "display_name": "Python 3",
   "language": "python",
   "name": "python3"
  },
  "language_info": {
   "codemirror_mode": {
    "name": "ipython",
    "version": 3
   },
   "file_extension": ".py",
   "mimetype": "text/x-python",
   "name": "python",
   "nbconvert_exporter": "python",
   "pygments_lexer": "ipython3",
   "version": "3.5.2"
  }
 },
 "nbformat": 4,
 "nbformat_minor": 2
}
