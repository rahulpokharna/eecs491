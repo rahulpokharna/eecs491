{
 "cells": [
  {
   "cell_type": "markdown",
   "metadata": {},
   "source": [
    "# Assignment 1"
   ]
  },
  {
   "cell_type": "markdown",
   "metadata": {},
   "source": [
    "1. What’s the data and hidden parameter (or representation) in you problem?\n",
    "2. What’s the generative process in your model (how the data in you model generated) and how to generate random data with program?\n",
    "3. What’s the prior, likelihood, and posterior in your model?\n",
    "4. How to calculate the likelihood with program?\n",
    "5. How to calculate the posterior with program?\n",
    "6. With a given data sample, what’s the posterior distribution looks like, and what’s the best estimation of hidden parameter?\n",
    "7. If you use repeating test and take multiple samples, how does the posterior distribution evolves in the progress?"
   ]
  },
  {
   "cell_type": "markdown",
   "metadata": {},
   "source": [
    "1. You have a bag, and there are two colors of balls, red and green. There are four types of bags, one with all red, one with all green, and one with 2/3 split of green and 1/3 red, the last is 2/3 of red and 1/3 green. The hidden variable is what kind of bag you get, and the data you get is the balls that you draw from that bag. \n",
    "\n",
    "2. To generate data, if it is the first or the second bag, it is entirely one color, whereas if you have the third or fourth bag you will have different amounts of red or green. The method below is how to generate a set of data with length elements.  "
   ]
  },
  {
   "cell_type": "code",
   "execution_count": 102,
   "metadata": {},
   "outputs": [],
   "source": [
    "# Imported modules\n",
    "import math\n",
    "import random\n",
    "import matplotlib.pyplot as plt\n",
    "import matplotlib\n",
    "import numpy as np"
   ]
  },
  {
   "cell_type": "code",
   "execution_count": 20,
   "metadata": {},
   "outputs": [],
   "source": [
    "# Takes as input the probability that this bag has green, and \n",
    "# the number of balls that bag has.\n",
    "def generateData(probGreen, length):\n",
    "    data = []\n",
    "    for x in range(length):\n",
    "        if probGreen > 0 :\n",
    "            rVel = (random.uniform(0,1) * 3)\n",
    "        elif probGreen == 1:\n",
    "            rVel = 0\n",
    "        else:\n",
    "            rVel = 1\n",
    "\n",
    "        # 0 is green, 1 is red\n",
    "        if rVel < 3 * probGreen:\n",
    "            data.append(0)\n",
    "        else:\n",
    "            data.append(1)\n",
    "        \n",
    "    return data\n"
   ]
  },
  {
   "cell_type": "markdown",
   "metadata": {},
   "source": [
    "3.\n",
    "The prior of the bags are as follows. For bag 1, with 100% green, bag 2, with 2/3 green, bag 3 with 1/3 green, and bag 4, with no green, only red. The prior distribution for these bags is <.1, .4, .4, .1>. \n",
    "\n",
    "The likelihood of the data is assumed to be independently and identically distributed for each ball draw from the bag, thus we can say the likelihood of the data, given a bag, can be calculated using $ P( \\mathbf Data| Bag) = \\prod P(Draw | Bag)$. \n",
    "\n",
    "For each bag, we use the distribution of green to red to then determine the probability of a certain bag given a draw, i.e. if we draw a green ball, there is a 100% chance of drawing a green from bag 1, 2/3 from 2, and so on. \n",
    "\n",
    "The posterior is $ P(Bag|\\mathbf Data) = \\alpha P(\\mathbf Data|Bag)P(Bag)$\n",
    "\n",
    "4.\n",
    "For calculating the likelihood with the program, that is below, with a comment above the loop for execution.\n",
    "\n",
    "5.\n",
    "For calculating the posterior, that is also in the method below, with comments above the relevant portion."
   ]
  },
  {
   "cell_type": "code",
   "execution_count": 21,
   "metadata": {},
   "outputs": [],
   "source": [
    "# program to calculate the probabilities of having a bag given the data.\n",
    "def bagProbabilities(dataH):\n",
    "    \n",
    "    #priors and probabilities of each bag\n",
    "    #Updated through iterations of the loops\n",
    "    prior = [.1, .4, .4, .1]\n",
    "    \n",
    "    #The ratio of green to red\n",
    "    #Also used for probability of drawing a green ball\n",
    "    greenProb = [1, 2/3, 1/3, 0]\n",
    "    \n",
    "    #probability that you draw a certain ball from he bag\n",
    "    totalBallProb = 0\n",
    "    for z in range(4):\n",
    "        totalBallProb = totalBallProb + (prior[z] * greenProb[z])\n",
    "    \n",
    "    # List for output\n",
    "    priorPlot = [ [.1], [.4], [.4], [.1] ]\n",
    "    greenProbPlot = [.5]\n",
    "\n",
    "    for x in range(len(dataH)):\n",
    "        #probability that a ball drawn is what it is given the data\n",
    "        totalBallProb = 0\n",
    "\n",
    "        #probability that you draw a lime\n",
    "        totalBallProb = 0\n",
    "\n",
    "        # Update the probability of drawing a certain ball \n",
    "        # P(Draw | Bag), summed over every bag. Resulting in P(Draw)\n",
    "        #This is how you calculate the likelihood of the draw\n",
    "        for z in range(4):\n",
    "            # 1 is red, 0 is a green. P(Red) = 1 - P(Green)\n",
    "            if(dataH[x] == 1):\n",
    "                totalBallProb = totalBallProb + (prior[z] * (1 - greenProb[z]))\n",
    "            else:\n",
    "                totalBallProb = totalBallProb + (prior[z] * greenProb[z])\n",
    "\n",
    "        # Converts the probability of drawing a ball to drawing green\n",
    "        if(dataH[x] == 1):\n",
    "            totalGreenProb = 1 - totalBallProb\n",
    "        else:\n",
    "            totalGreenProb = totalBallProb   \n",
    "\n",
    "        # This is how you calculate the posterior,\n",
    "        # Updating the prior to reflect the changes in draws.\n",
    "        for y in range(4):\n",
    "            if(dataH[x] == 1):\n",
    "                prior[y] = (1 - greenProb[y]) * prior[y] / totalBallProb\n",
    "            else:\n",
    "                prior[y] = greenProb[y] * prior[y] / totalBallProb\n",
    "            \n",
    "            priorPlot[y].append(prior[y])\n",
    "\n",
    "        #separate subplot to show the probability that next is green\n",
    "        greenProbPlot.append(totalGreenProb)\n",
    "\n",
    "    return priorPlot, greenProbPlot"
   ]
  },
  {
   "cell_type": "markdown",
   "metadata": {},
   "source": [
    "6.\n",
    "To generate a graph to view how the distributions look like, we can look at the probabilities of each bag after each draw from the bag. Here, we run the program with the data from having 2/3rds of the bag being green, the rest are red. We use the following function to graph. The best estimate of the hidden parameter is the bag that has the highest probability in the prior plot. "
   ]
  },
  {
   "cell_type": "code",
   "execution_count": 39,
   "metadata": {},
   "outputs": [],
   "source": [
    "def graphForBag(bag, priorPlot, greenProbPlot):\n",
    "    \n",
    "    prior = [.1, .4, .4, .1]\n",
    "    limeProb = [1, 2/3, 1/3, 0]\n",
    "    plotColor = ['ro', 'b^', 'gx', 'yp']\n",
    "    '''    \n",
    "    for z in range(4):\n",
    "        plt.figure(bag)\n",
    "        plt.subplot(121)\n",
    "        \n",
    "        #plt.plot(0, prior[z], plotColor[z], label='Bag {}'.format(z + 1))\n",
    "        plt.subplot(122)\n",
    "    '''\n",
    "\n",
    "    plt.figure(bag)\n",
    "    plt.subplot(121)\n",
    "    plt.title('Data set having bag h{}'.format(bag + 1))\n",
    "    \n",
    "    for y in range(4):\n",
    "        plt.plot(range(len(greenProbPlot)), priorPlot[y], plotColor[y], label='Bag {}'.format(y + 1))\n",
    "    plt.legend()\n",
    "    plt.subplot(122)\n",
    "    plt.plot(range(len(greenProbPlot)), greenProbPlot, 'ko')\n",
    "    plt.title('Probability next ball is green')\n",
    "\n",
    "    \n",
    "    plt.legend()"
   ]
  },
  {
   "cell_type": "markdown",
   "metadata": {},
   "source": [
    "Below is the place to execute the final code, where you can determine the data to input and to actually call the methods created above."
   ]
  },
  {
   "cell_type": "code",
   "execution_count": 91,
   "metadata": {},
   "outputs": [],
   "source": [
    "# Change the probability of drawing a green ball here\n",
    "bagType = 1\n",
    "bagProbs = [1, 2/3, 1/3, 0]"
   ]
  },
  {
   "cell_type": "code",
   "execution_count": 101,
   "metadata": {},
   "outputs": [
    {
     "data": {
      "image/png": "[encoded data removed]",
      "text/plain": [
       "<matplotlib.figure.Figure at 0x231db1e3358>"
      ]
     },
     "metadata": {},
     "output_type": "display_data"
    }
   ],
   "source": [
    "bagData = generateData(bagProbs[bagType], 100)\n",
    "priorPlot, greenProbPlot = bagProbabilities(bagData)\n",
    "\n",
    "# Makes the graphs larger and readable, x,  y in inches. Alter if this is too large or too small. \n",
    "matplotlib.rcParams['figure.figsize'] = 14, 6\n",
    "graphForBag(2, priorPlot, greenProbPlot)"
   ]
  }
 ],
 "metadata": {
  "kernelspec": {
   "display_name": "Python 3",
   "language": "python",
   "name": "python3"
  },
  "language_info": {
   "codemirror_mode": {
    "name": "ipython",
    "version": 3
   },
   "file_extension": ".py",
   "mimetype": "text/x-python",
   "name": "python",
   "nbconvert_exporter": "python",
   "pygments_lexer": "ipython3",
   "version": "3.5.2"
  }
 },
 "nbformat": 4,
 "nbformat_minor": 2
}
